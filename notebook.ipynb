{
 "metadata": {
  "language_info": {
   "codemirror_mode": {
    "name": "ipython",
    "version": 3
   },
   "file_extension": ".py",
   "mimetype": "text/x-python",
   "name": "python",
   "nbconvert_exporter": "python",
   "pygments_lexer": "ipython3",
   "version": "3.7.7-final"
  },
  "orig_nbformat": 2,
  "kernelspec": {
   "name": "python37764bitvenvvenv031d890ec9914b23854115bd70e54a6f",
   "display_name": "Python 3.7.7 64-bit ('venv': venv)",
   "language": "python"
  }
 },
 "nbformat": 4,
 "nbformat_minor": 2,
 "cells": [
  {
   "cell_type": "code",
   "execution_count": 128,
   "metadata": {},
   "outputs": [],
   "source": [
    "from skmob.tessellation import tilers\n",
    "import numpy as np\n",
    "import pandas as pd\n",
    "import pickle\n",
    "import skmob\n",
    "from shapely.geometry import Point\n"
   ]
  },
  {
   "cell_type": "code",
   "execution_count": 129,
   "metadata": {},
   "outputs": [],
   "source": [
    "CACHE = True"
   ]
  },
  {
   "cell_type": "code",
   "execution_count": 2,
   "metadata": {},
   "outputs": [],
   "source": [
    "import geopandas as gpd\n",
    "url_tess = skmob.utils.constants.NY_COUNTIES_2011\n",
    "tessellation = tilers.tiler.get(\"squared\", base_shape=\"New York City, New York\", meters=1500)"
   ]
  },
  {
   "cell_type": "code",
   "execution_count": 3,
   "metadata": {},
   "outputs": [],
   "source": [
    "FILENAME = \"utils/2013-12 - Citi Bike trip data.csv\""
   ]
  },
  {
   "cell_type": "code",
   "execution_count": 4,
   "metadata": {},
   "outputs": [
    {
     "output_type": "stream",
     "name": "stdout",
     "text": [
      "322\n"
     ]
    }
   ],
   "source": [
    "for i, row in tessellation.iterrows():\n",
    "    if row['geometry'].contains(Point(-73.989978, 40.720196)):\n",
    "        print(i)"
   ]
  },
  {
   "cell_type": "code",
   "execution_count": 5,
   "metadata": {},
   "outputs": [
    {
     "output_type": "execute_result",
     "data": {
      "text/plain": [
       "   tripduration            starttime             stoptime  start station id  \\\n",
       "0          1015  2013-12-01 00:00:03  2013-12-01 00:16:58               401   \n",
       "1           962  2013-12-01 00:00:07  2013-12-01 00:16:09               312   \n",
       "2           768  2013-12-01 00:00:15  2013-12-01 00:13:03               326   \n",
       "3           218  2013-12-01 00:00:49  2013-12-01 00:04:27              2021   \n",
       "4           550  2013-12-01 00:01:28  2013-12-01 00:10:38               439   \n",
       "\n",
       "        start station name  start station latitude  start station longitude  \\\n",
       "0  Allen St & Rivington St               40.720196               -73.989978   \n",
       "1  Allen St & E Houston St               40.722055               -73.989111   \n",
       "2          E 11 St & 1 Ave               40.729538               -73.984267   \n",
       "3          W 45 St & 8 Ave               40.759291               -73.988597   \n",
       "4           E 4 St & 2 Ave               40.726281               -73.989780   \n",
       "\n",
       "   end station id            end station name  end station latitude  \\\n",
       "0             476             E 31 St & 3 Ave             40.743943   \n",
       "1             223             W 13 St & 7 Ave             40.737815   \n",
       "2             291  Madison St & Montgomery St             40.713126   \n",
       "3             447             8 Ave & W 52 St             40.763707   \n",
       "4             296        Division St & Bowery             40.714131   \n",
       "\n",
       "   end station longitude  bikeid    usertype birth year  gender  \n",
       "0             -73.979661   14729  Subscriber       1979       2  \n",
       "1             -73.999947   17871  Subscriber       1970       2  \n",
       "2             -73.984844   18508  Subscriber       1982       2  \n",
       "3             -73.985162   17745  Subscriber       1976       1  \n",
       "4             -73.997047   16947  Subscriber       1983       1  "
      ],
      "text/html": "<div>\n<style scoped>\n    .dataframe tbody tr th:only-of-type {\n        vertical-align: middle;\n    }\n\n    .dataframe tbody tr th {\n        vertical-align: top;\n    }\n\n    .dataframe thead th {\n        text-align: right;\n    }\n</style>\n<table border=\"1\" class=\"dataframe\">\n  <thead>\n    <tr style=\"text-align: right;\">\n      <th></th>\n      <th>tripduration</th>\n      <th>starttime</th>\n      <th>stoptime</th>\n      <th>start station id</th>\n      <th>start station name</th>\n      <th>start station latitude</th>\n      <th>start station longitude</th>\n      <th>end station id</th>\n      <th>end station name</th>\n      <th>end station latitude</th>\n      <th>end station longitude</th>\n      <th>bikeid</th>\n      <th>usertype</th>\n      <th>birth year</th>\n      <th>gender</th>\n    </tr>\n  </thead>\n  <tbody>\n    <tr>\n      <th>0</th>\n      <td>1015</td>\n      <td>2013-12-01 00:00:03</td>\n      <td>2013-12-01 00:16:58</td>\n      <td>401</td>\n      <td>Allen St &amp; Rivington St</td>\n      <td>40.720196</td>\n      <td>-73.989978</td>\n      <td>476</td>\n      <td>E 31 St &amp; 3 Ave</td>\n      <td>40.743943</td>\n      <td>-73.979661</td>\n      <td>14729</td>\n      <td>Subscriber</td>\n      <td>1979</td>\n      <td>2</td>\n    </tr>\n    <tr>\n      <th>1</th>\n      <td>962</td>\n      <td>2013-12-01 00:00:07</td>\n      <td>2013-12-01 00:16:09</td>\n      <td>312</td>\n      <td>Allen St &amp; E Houston St</td>\n      <td>40.722055</td>\n      <td>-73.989111</td>\n      <td>223</td>\n      <td>W 13 St &amp; 7 Ave</td>\n      <td>40.737815</td>\n      <td>-73.999947</td>\n      <td>17871</td>\n      <td>Subscriber</td>\n      <td>1970</td>\n      <td>2</td>\n    </tr>\n    <tr>\n      <th>2</th>\n      <td>768</td>\n      <td>2013-12-01 00:00:15</td>\n      <td>2013-12-01 00:13:03</td>\n      <td>326</td>\n      <td>E 11 St &amp; 1 Ave</td>\n      <td>40.729538</td>\n      <td>-73.984267</td>\n      <td>291</td>\n      <td>Madison St &amp; Montgomery St</td>\n      <td>40.713126</td>\n      <td>-73.984844</td>\n      <td>18508</td>\n      <td>Subscriber</td>\n      <td>1982</td>\n      <td>2</td>\n    </tr>\n    <tr>\n      <th>3</th>\n      <td>218</td>\n      <td>2013-12-01 00:00:49</td>\n      <td>2013-12-01 00:04:27</td>\n      <td>2021</td>\n      <td>W 45 St &amp; 8 Ave</td>\n      <td>40.759291</td>\n      <td>-73.988597</td>\n      <td>447</td>\n      <td>8 Ave &amp; W 52 St</td>\n      <td>40.763707</td>\n      <td>-73.985162</td>\n      <td>17745</td>\n      <td>Subscriber</td>\n      <td>1976</td>\n      <td>1</td>\n    </tr>\n    <tr>\n      <th>4</th>\n      <td>550</td>\n      <td>2013-12-01 00:01:28</td>\n      <td>2013-12-01 00:10:38</td>\n      <td>439</td>\n      <td>E 4 St &amp; 2 Ave</td>\n      <td>40.726281</td>\n      <td>-73.989780</td>\n      <td>296</td>\n      <td>Division St &amp; Bowery</td>\n      <td>40.714131</td>\n      <td>-73.997047</td>\n      <td>16947</td>\n      <td>Subscriber</td>\n      <td>1983</td>\n      <td>1</td>\n    </tr>\n  </tbody>\n</table>\n</div>"
     },
     "metadata": {},
     "execution_count": 5
    }
   ],
   "source": [
    "df = pd.read_csv(FILENAME, sep=',')\n",
    "tdf = skmob.TrajDataFrame(df, user_id='user', datetime='datetime')\n",
    "tdf.head()"
   ]
  },
  {
   "cell_type": "code",
   "execution_count": 6,
   "metadata": {},
   "outputs": [],
   "source": [
    "tdf['origin'] = df.apply(lambda row: Point(row['start station longitude'], row['start station latitude']), axis=1)\n",
    "tdf['destination'] = df.apply(lambda row: Point(row['end station longitude'], row['end station latitude']), axis=1)"
   ]
  },
  {
   "cell_type": "code",
   "execution_count": 7,
   "metadata": {},
   "outputs": [],
   "source": [
    "def getIndexPosition(tessellation, position):\n",
    "    for i, row in enumerate(tessellation):\n",
    "        if row.contains(position):\n",
    "            return i"
   ]
  },
  {
   "cell_type": "code",
   "execution_count": 8,
   "metadata": {},
   "outputs": [],
   "source": [
    "origins = tdf['origin']\n",
    "poligons = tessellation['geometry']"
   ]
  },
  {
   "cell_type": "code",
   "execution_count": 9,
   "metadata": {
    "tags": []
   },
   "outputs": [],
   "source": [
    "lista = []\n",
    "for i, el in enumerate(origins):\n",
    "    lista.append(getIndexPosition(poligons, el))\n",
    "\n"
   ]
  },
  {
   "cell_type": "code",
   "execution_count": 10,
   "metadata": {},
   "outputs": [],
   "source": [
    "tdf['origin'] = lista"
   ]
  },
  {
   "cell_type": "code",
   "execution_count": 11,
   "metadata": {
    "tags": []
   },
   "outputs": [],
   "source": [
    "tdf['destination'] = tdf.apply(lambda row: getIndexPosition(poligons, row['destination']), axis=1)"
   ]
  },
  {
   "cell_type": "code",
   "execution_count": 12,
   "metadata": {},
   "outputs": [
    {
     "output_type": "execute_result",
     "data": {
      "text/plain": [
       "Index(['tripduration', 'starttime', 'stoptime', 'start station id',\n",
       "       'start station name', 'start station latitude',\n",
       "       'start station longitude', 'end station id', 'end station name',\n",
       "       'end station latitude', 'end station longitude', 'bikeid', 'usertype',\n",
       "       'birth year', 'gender', 'origin', 'destination'],\n",
       "      dtype='object')"
      ]
     },
     "metadata": {},
     "execution_count": 12
    }
   ],
   "source": [
    "tdf.columns"
   ]
  },
  {
   "cell_type": "code",
   "execution_count": 13,
   "metadata": {},
   "outputs": [],
   "source": [
    "fdf = skmob.FlowDataFrame(tdf,\n",
    "                        tessellation=tessellation,\n",
    "                        origin=\"origin\",\n",
    "                        destination=\"destination\",\n",
    "                        tile_id='tile_ID')"
   ]
  },
  {
   "cell_type": "code",
   "execution_count": 14,
   "metadata": {},
   "outputs": [],
   "source": [
    "fdf['flow'] = 1"
   ]
  },
  {
   "cell_type": "code",
   "execution_count": 130,
   "metadata": {},
   "outputs": [],
   "source": [
    "if CACHE:\n",
    "    with open('fdf.pkl', 'wb') as f:\n",
    "        pickle.dump(fdf, f, protocol=pickle.HIGHEST_PROTOCOL)"
   ]
  },
  {
   "cell_type": "code",
   "execution_count": 15,
   "metadata": {},
   "outputs": [
    {
     "output_type": "execute_result",
     "data": {
      "text/plain": [
       "        tripduration            starttime             stoptime  \\\n",
       "0               1015  2013-12-01 00:00:03  2013-12-01 00:16:58   \n",
       "1                962  2013-12-01 00:00:07  2013-12-01 00:16:09   \n",
       "2                768  2013-12-01 00:00:15  2013-12-01 00:13:03   \n",
       "3                218  2013-12-01 00:00:49  2013-12-01 00:04:27   \n",
       "4                550  2013-12-01 00:01:28  2013-12-01 00:10:38   \n",
       "...              ...                  ...                  ...   \n",
       "443961          1014  2013-12-31 23:55:56  2014-01-01 00:12:50   \n",
       "443962           682  2013-12-31 23:57:04  2014-01-01 00:08:26   \n",
       "443963          1520  2013-12-31 23:57:44  2014-01-01 00:23:04   \n",
       "443964          1166  2013-12-31 23:58:14  2014-01-01 00:17:40   \n",
       "443965           677  2013-12-31 23:58:16  2014-01-01 00:09:33   \n",
       "\n",
       "        start station id                 start station name  \\\n",
       "0                    401            Allen St & Rivington St   \n",
       "1                    312            Allen St & E Houston St   \n",
       "2                    326                    E 11 St & 1 Ave   \n",
       "3                   2021                    W 45 St & 8 Ave   \n",
       "4                    439                     E 4 St & 2 Ave   \n",
       "...                  ...                                ...   \n",
       "443961               350              Clinton St & Grand St   \n",
       "443962               538                    W 49 St & 5 Ave   \n",
       "443963               281  Grand Army Plaza & Central Park S   \n",
       "443964               492                    W 33 St & 7 Ave   \n",
       "443965               463                    9 Ave & W 16 St   \n",
       "\n",
       "        start station latitude  start station longitude  end station id  \\\n",
       "0                    40.720196               -73.989978             476   \n",
       "1                    40.722055               -73.989111             223   \n",
       "2                    40.729538               -73.984267             291   \n",
       "3                    40.759291               -73.988597             447   \n",
       "4                    40.726281               -73.989780             296   \n",
       "...                        ...                      ...             ...   \n",
       "443961               40.715595               -73.987030             532   \n",
       "443962               40.757952               -73.977876            2006   \n",
       "443963               40.764397               -73.973715             411   \n",
       "443964               40.750200               -73.990931             253   \n",
       "443965               40.742065               -74.004432             448   \n",
       "\n",
       "                  end station name  end station latitude  \\\n",
       "0                  E 31 St & 3 Ave             40.743943   \n",
       "1                  W 13 St & 7 Ave             40.737815   \n",
       "2       Madison St & Montgomery St             40.713126   \n",
       "3                  8 Ave & W 52 St             40.763707   \n",
       "4             Division St & Bowery             40.714131   \n",
       "...                            ...                   ...   \n",
       "443961             S 5 Pl & S 4 St             40.710451   \n",
       "443962      Central Park S & 6 Ave             40.765909   \n",
       "443963           E 6 St & Avenue D             40.722281   \n",
       "443964             W 13 St & 5 Ave             40.735439   \n",
       "443965            W 37 St & 10 Ave             40.756604   \n",
       "\n",
       "        end station longitude  bikeid    usertype birth year  gender origin  \\\n",
       "0                  -73.979661   14729  Subscriber       1979       2    322   \n",
       "1                  -73.999947   17871  Subscriber       1970       2    349   \n",
       "2                  -73.984844   18508  Subscriber       1982       2    350   \n",
       "3                  -73.985162   17745  Subscriber       1976       1    353   \n",
       "4                  -73.997047   16947  Subscriber       1983       1    323   \n",
       "...                       ...     ...         ...        ...     ...    ...   \n",
       "443961             -73.960876   16336  Subscriber       1973       1    349   \n",
       "443962             -73.976342   18352  Subscriber       1986       1    353   \n",
       "443963             -73.976687   15000  Subscriber       1985       1    384   \n",
       "443964             -73.994539   21022  Subscriber       1955       1    325   \n",
       "443965             -73.997901   17559  Subscriber       1986       1    298   \n",
       "\n",
       "       destination  flow  \n",
       "0              352     1  \n",
       "1              324     1  \n",
       "2              349     1  \n",
       "3              353     1  \n",
       "4              322     1  \n",
       "...            ...   ...  \n",
       "443961         410     1  \n",
       "443962         354     1  \n",
       "443963         349     1  \n",
       "443964         324     1  \n",
       "443965         326     1  \n",
       "\n",
       "[443966 rows x 18 columns]"
      ],
      "text/html": "<div>\n<style scoped>\n    .dataframe tbody tr th:only-of-type {\n        vertical-align: middle;\n    }\n\n    .dataframe tbody tr th {\n        vertical-align: top;\n    }\n\n    .dataframe thead th {\n        text-align: right;\n    }\n</style>\n<table border=\"1\" class=\"dataframe\">\n  <thead>\n    <tr style=\"text-align: right;\">\n      <th></th>\n      <th>tripduration</th>\n      <th>starttime</th>\n      <th>stoptime</th>\n      <th>start station id</th>\n      <th>start station name</th>\n      <th>start station latitude</th>\n      <th>start station longitude</th>\n      <th>end station id</th>\n      <th>end station name</th>\n      <th>end station latitude</th>\n      <th>end station longitude</th>\n      <th>bikeid</th>\n      <th>usertype</th>\n      <th>birth year</th>\n      <th>gender</th>\n      <th>origin</th>\n      <th>destination</th>\n      <th>flow</th>\n    </tr>\n  </thead>\n  <tbody>\n    <tr>\n      <th>0</th>\n      <td>1015</td>\n      <td>2013-12-01 00:00:03</td>\n      <td>2013-12-01 00:16:58</td>\n      <td>401</td>\n      <td>Allen St &amp; Rivington St</td>\n      <td>40.720196</td>\n      <td>-73.989978</td>\n      <td>476</td>\n      <td>E 31 St &amp; 3 Ave</td>\n      <td>40.743943</td>\n      <td>-73.979661</td>\n      <td>14729</td>\n      <td>Subscriber</td>\n      <td>1979</td>\n      <td>2</td>\n      <td>322</td>\n      <td>352</td>\n      <td>1</td>\n    </tr>\n    <tr>\n      <th>1</th>\n      <td>962</td>\n      <td>2013-12-01 00:00:07</td>\n      <td>2013-12-01 00:16:09</td>\n      <td>312</td>\n      <td>Allen St &amp; E Houston St</td>\n      <td>40.722055</td>\n      <td>-73.989111</td>\n      <td>223</td>\n      <td>W 13 St &amp; 7 Ave</td>\n      <td>40.737815</td>\n      <td>-73.999947</td>\n      <td>17871</td>\n      <td>Subscriber</td>\n      <td>1970</td>\n      <td>2</td>\n      <td>349</td>\n      <td>324</td>\n      <td>1</td>\n    </tr>\n    <tr>\n      <th>2</th>\n      <td>768</td>\n      <td>2013-12-01 00:00:15</td>\n      <td>2013-12-01 00:13:03</td>\n      <td>326</td>\n      <td>E 11 St &amp; 1 Ave</td>\n      <td>40.729538</td>\n      <td>-73.984267</td>\n      <td>291</td>\n      <td>Madison St &amp; Montgomery St</td>\n      <td>40.713126</td>\n      <td>-73.984844</td>\n      <td>18508</td>\n      <td>Subscriber</td>\n      <td>1982</td>\n      <td>2</td>\n      <td>350</td>\n      <td>349</td>\n      <td>1</td>\n    </tr>\n    <tr>\n      <th>3</th>\n      <td>218</td>\n      <td>2013-12-01 00:00:49</td>\n      <td>2013-12-01 00:04:27</td>\n      <td>2021</td>\n      <td>W 45 St &amp; 8 Ave</td>\n      <td>40.759291</td>\n      <td>-73.988597</td>\n      <td>447</td>\n      <td>8 Ave &amp; W 52 St</td>\n      <td>40.763707</td>\n      <td>-73.985162</td>\n      <td>17745</td>\n      <td>Subscriber</td>\n      <td>1976</td>\n      <td>1</td>\n      <td>353</td>\n      <td>353</td>\n      <td>1</td>\n    </tr>\n    <tr>\n      <th>4</th>\n      <td>550</td>\n      <td>2013-12-01 00:01:28</td>\n      <td>2013-12-01 00:10:38</td>\n      <td>439</td>\n      <td>E 4 St &amp; 2 Ave</td>\n      <td>40.726281</td>\n      <td>-73.989780</td>\n      <td>296</td>\n      <td>Division St &amp; Bowery</td>\n      <td>40.714131</td>\n      <td>-73.997047</td>\n      <td>16947</td>\n      <td>Subscriber</td>\n      <td>1983</td>\n      <td>1</td>\n      <td>323</td>\n      <td>322</td>\n      <td>1</td>\n    </tr>\n    <tr>\n      <th>...</th>\n      <td>...</td>\n      <td>...</td>\n      <td>...</td>\n      <td>...</td>\n      <td>...</td>\n      <td>...</td>\n      <td>...</td>\n      <td>...</td>\n      <td>...</td>\n      <td>...</td>\n      <td>...</td>\n      <td>...</td>\n      <td>...</td>\n      <td>...</td>\n      <td>...</td>\n      <td>...</td>\n      <td>...</td>\n      <td>...</td>\n    </tr>\n    <tr>\n      <th>443961</th>\n      <td>1014</td>\n      <td>2013-12-31 23:55:56</td>\n      <td>2014-01-01 00:12:50</td>\n      <td>350</td>\n      <td>Clinton St &amp; Grand St</td>\n      <td>40.715595</td>\n      <td>-73.987030</td>\n      <td>532</td>\n      <td>S 5 Pl &amp; S 4 St</td>\n      <td>40.710451</td>\n      <td>-73.960876</td>\n      <td>16336</td>\n      <td>Subscriber</td>\n      <td>1973</td>\n      <td>1</td>\n      <td>349</td>\n      <td>410</td>\n      <td>1</td>\n    </tr>\n    <tr>\n      <th>443962</th>\n      <td>682</td>\n      <td>2013-12-31 23:57:04</td>\n      <td>2014-01-01 00:08:26</td>\n      <td>538</td>\n      <td>W 49 St &amp; 5 Ave</td>\n      <td>40.757952</td>\n      <td>-73.977876</td>\n      <td>2006</td>\n      <td>Central Park S &amp; 6 Ave</td>\n      <td>40.765909</td>\n      <td>-73.976342</td>\n      <td>18352</td>\n      <td>Subscriber</td>\n      <td>1986</td>\n      <td>1</td>\n      <td>353</td>\n      <td>354</td>\n      <td>1</td>\n    </tr>\n    <tr>\n      <th>443963</th>\n      <td>1520</td>\n      <td>2013-12-31 23:57:44</td>\n      <td>2014-01-01 00:23:04</td>\n      <td>281</td>\n      <td>Grand Army Plaza &amp; Central Park S</td>\n      <td>40.764397</td>\n      <td>-73.973715</td>\n      <td>411</td>\n      <td>E 6 St &amp; Avenue D</td>\n      <td>40.722281</td>\n      <td>-73.976687</td>\n      <td>15000</td>\n      <td>Subscriber</td>\n      <td>1985</td>\n      <td>1</td>\n      <td>384</td>\n      <td>349</td>\n      <td>1</td>\n    </tr>\n    <tr>\n      <th>443964</th>\n      <td>1166</td>\n      <td>2013-12-31 23:58:14</td>\n      <td>2014-01-01 00:17:40</td>\n      <td>492</td>\n      <td>W 33 St &amp; 7 Ave</td>\n      <td>40.750200</td>\n      <td>-73.990931</td>\n      <td>253</td>\n      <td>W 13 St &amp; 5 Ave</td>\n      <td>40.735439</td>\n      <td>-73.994539</td>\n      <td>21022</td>\n      <td>Subscriber</td>\n      <td>1955</td>\n      <td>1</td>\n      <td>325</td>\n      <td>324</td>\n      <td>1</td>\n    </tr>\n    <tr>\n      <th>443965</th>\n      <td>677</td>\n      <td>2013-12-31 23:58:16</td>\n      <td>2014-01-01 00:09:33</td>\n      <td>463</td>\n      <td>9 Ave &amp; W 16 St</td>\n      <td>40.742065</td>\n      <td>-74.004432</td>\n      <td>448</td>\n      <td>W 37 St &amp; 10 Ave</td>\n      <td>40.756604</td>\n      <td>-73.997901</td>\n      <td>17559</td>\n      <td>Subscriber</td>\n      <td>1986</td>\n      <td>1</td>\n      <td>298</td>\n      <td>326</td>\n      <td>1</td>\n    </tr>\n  </tbody>\n</table>\n<p>443966 rows × 18 columns</p>\n</div>"
     },
     "metadata": {},
     "execution_count": 15
    }
   ],
   "source": [
    "fdf"
   ]
  },
  {
   "cell_type": "code",
   "execution_count": 22,
   "metadata": {},
   "outputs": [],
   "source": [
    "flow_df = fdf[['starttime','origin','destination', 'flow']]"
   ]
  },
  {
   "cell_type": "code",
   "execution_count": 23,
   "metadata": {},
   "outputs": [],
   "source": [
    "flow_df['starttime'] = pd.to_datetime(df.starttime)"
   ]
  },
  {
   "cell_type": "code",
   "execution_count": 53,
   "metadata": {},
   "outputs": [
    {
     "output_type": "stream",
     "name": "stdout",
     "text": [
      "starttime      2013-12-01 00:00:03\norigin                         271\ndestination                    271\nflow                             1\ndtype: object\nstarttime      2013-12-31 23:58:16\norigin                         415\ndestination                    415\nflow                             1\ndtype: object\n"
     ]
    }
   ],
   "source": [
    "print(flow_df.min())\n",
    "print(flow_df.max())"
   ]
  },
  {
   "cell_type": "code",
   "execution_count": 68,
   "metadata": {},
   "outputs": [],
   "source": [
    "flow_df['origin'] = flow_df['origin'].astype(int)-271"
   ]
  },
  {
   "cell_type": "code",
   "execution_count": 69,
   "metadata": {},
   "outputs": [],
   "source": [
    "flow_df['destination'] = flow_df['destination'].astype(int)-271"
   ]
  },
  {
   "cell_type": "code",
   "execution_count": 103,
   "metadata": {},
   "outputs": [
    {
     "output_type": "stream",
     "name": "stdout",
     "text": [
      "starttime      2013-12-01 00:00:03\norigin                           0\ndestination                      0\nflow                             1\ndtype: object\nstarttime      2013-12-31 23:58:16\norigin                         144\ndestination                    144\nflow                             1\ndtype: object\n"
     ]
    }
   ],
   "source": [
    "print(flow_df.min())\n",
    "print(flow_df.max())"
   ]
  },
  {
   "cell_type": "code",
   "execution_count": 132,
   "metadata": {},
   "outputs": [
    {
     "output_type": "execute_result",
     "data": {
      "text/plain": [
       "                                        flow\n",
       "starttime           origin destination      \n",
       "2013-12-01 00:00:00 24     51              1\n",
       "                           78              1\n",
       "                    25     24              1\n",
       "                           25              1\n",
       "                           27              1\n",
       "...                                      ...\n",
       "2013-12-31 23:00:00 113    81              1\n",
       "                    137    105             1\n",
       "                    138    136             1\n",
       "                    140    79              1\n",
       "                           137             1\n",
       "\n",
       "[152432 rows x 1 columns]"
      ],
      "text/html": "<div>\n<style scoped>\n    .dataframe tbody tr th:only-of-type {\n        vertical-align: middle;\n    }\n\n    .dataframe tbody tr th {\n        vertical-align: top;\n    }\n\n    .dataframe thead th {\n        text-align: right;\n    }\n</style>\n<table border=\"1\" class=\"dataframe\">\n  <thead>\n    <tr style=\"text-align: right;\">\n      <th></th>\n      <th></th>\n      <th></th>\n      <th>flow</th>\n    </tr>\n    <tr>\n      <th>starttime</th>\n      <th>origin</th>\n      <th>destination</th>\n      <th></th>\n    </tr>\n  </thead>\n  <tbody>\n    <tr>\n      <th rowspan=\"5\" valign=\"top\">2013-12-01 00:00:00</th>\n      <th rowspan=\"2\" valign=\"top\">24</th>\n      <th>51</th>\n      <td>1</td>\n    </tr>\n    <tr>\n      <th>78</th>\n      <td>1</td>\n    </tr>\n    <tr>\n      <th rowspan=\"3\" valign=\"top\">25</th>\n      <th>24</th>\n      <td>1</td>\n    </tr>\n    <tr>\n      <th>25</th>\n      <td>1</td>\n    </tr>\n    <tr>\n      <th>27</th>\n      <td>1</td>\n    </tr>\n    <tr>\n      <th>...</th>\n      <th>...</th>\n      <th>...</th>\n      <td>...</td>\n    </tr>\n    <tr>\n      <th rowspan=\"5\" valign=\"top\">2013-12-31 23:00:00</th>\n      <th>113</th>\n      <th>81</th>\n      <td>1</td>\n    </tr>\n    <tr>\n      <th>137</th>\n      <th>105</th>\n      <td>1</td>\n    </tr>\n    <tr>\n      <th>138</th>\n      <th>136</th>\n      <td>1</td>\n    </tr>\n    <tr>\n      <th rowspan=\"2\" valign=\"top\">140</th>\n      <th>79</th>\n      <td>1</td>\n    </tr>\n    <tr>\n      <th>137</th>\n      <td>1</td>\n    </tr>\n  </tbody>\n</table>\n<p>152432 rows × 1 columns</p>\n</div>"
     },
     "metadata": {},
     "execution_count": 132
    }
   ],
   "source": [
    "f = flow_df.groupby([pd.Grouper(key='starttime', freq='60min'),'origin','destination']).sum()\n",
    "f"
   ]
  },
  {
   "cell_type": "code",
   "execution_count": 99,
   "metadata": {},
   "outputs": [],
   "source": [
    "# TODO ridefinire\n",
    "# origin_dest = np.zeros([int(flow_df['origin'].max())-int(flow_df['origin'].min()), int(flow_df['destination'].max())-int(flow_df['destination'].min())])"
   ]
  },
  {
   "cell_type": "code",
   "execution_count": 100,
   "metadata": {},
   "outputs": [
    {
     "output_type": "execute_result",
     "data": {
      "text/plain": [
       "(144, 144)"
      ]
     },
     "metadata": {},
     "execution_count": 100
    }
   ],
   "source": [
    "np.shape(origin_dest)"
   ]
  },
  {
   "cell_type": "code",
   "execution_count": 101,
   "metadata": {},
   "outputs": [
    {
     "output_type": "stream",
     "name": "stdout",
     "text": [
      "(Timestamp('2013-12-01 00:00:00'), 24, 51)\n"
     ]
    }
   ],
   "source": [
    "for i, el in f.iterrows():\n",
    "    print(el.name)\n",
    "    break"
   ]
  },
  {
   "cell_type": "code",
   "execution_count": 124,
   "metadata": {},
   "outputs": [],
   "source": [
    "time = set()\n",
    "time_orgin_dest = []\n",
    "origin_dest = np.zeros(\n",
    "            [int(flow_df['origin'].max())+1-int(flow_df['origin'].min()), \n",
    "            int(flow_df['destination'].max())+1-int(flow_df['destination'].min())])\n",
    "flow = list(f['flow'])\n",
    "\n",
    "for i, el in enumerate(f.index):\n",
    "    if(el[0] not in time):\n",
    "        time.add(el[0])\n",
    "        time_orgin_dest.append(origin_dest)\n",
    "        origin_dest = np.zeros(\n",
    "            [int(flow_df['origin'].max())+1-int(flow_df['origin'].min()), \n",
    "            int(flow_df['destination'].max())+1-int(flow_df['destination'].min())])\n",
    "    origin_dest[el[1],el[2]] = flow[i]"
   ]
  },
  {
   "cell_type": "code",
   "execution_count": 125,
   "metadata": {},
   "outputs": [
    {
     "output_type": "execute_result",
     "data": {
      "text/plain": [
       "(744, 145, 145)"
      ]
     },
     "metadata": {},
     "execution_count": 125
    }
   ],
   "source": [
    "np.shape(time_orgin_dest)"
   ]
  },
  {
   "cell_type": "code",
   "execution_count": 117,
   "metadata": {},
   "outputs": [
    {
     "output_type": "execute_result",
     "data": {
      "text/plain": [
       "array([1, 2, 3, 4, 5, 6, 7, 8, 9])"
      ]
     },
     "metadata": {},
     "execution_count": 117
    }
   ],
   "source": [
    "np.append([1, 2, 3], [[4, 5, 6], [7, 8, 9]])"
   ]
  },
  {
   "cell_type": "code",
   "execution_count": null,
   "metadata": {},
   "outputs": [],
   "source": []
  }
 ]
}